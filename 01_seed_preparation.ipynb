{
 "cells": [
  {
   "cell_type": "markdown",
   "id": "5f57f57d-55c9-48b6-b714-7d67fc901caf",
   "metadata": {},
   "source": [
    "# 01 Seed Pairs Preparation\n",
    "\n",
    "This code aims to extract the cause-effect pairs from 'SemEval2010_task8', to prepare them as seed pairs in following steps.   \n",
    "\n",
    "* **Input**: The tagged text from [this link of SemEval2010_task8](https://docs.google.com/leaf?id=0B_jQiLugGTAkMDQ5ZjZiMTUtMzQ1Yy00YWNmLWJlZDYtOWY1ZDMwY2U4YjFk&sort=name&layout=list&num=50)\n",
    "* **Approaches**: Using the linguistic patterns to extract the tagged cause-effect pairs\n",
    "* **Output**: The causal pairs stored in dataframe"
   ]
  },
  {
   "cell_type": "code",
   "execution_count": 2,
   "id": "afd7851e-ee79-49bf-83c5-758a538688e6",
   "metadata": {},
   "outputs": [],
   "source": [
    "### import necessary packages\n",
    "\n",
    "import os\n",
    "import pandas as pd\n",
    "import numpy as np\n",
    "import re\n",
    "import random\n"
   ]
  },
  {
   "cell_type": "markdown",
   "id": "0605b525-242c-4b88-938e-038bede50818",
   "metadata": {},
   "source": [
    "Please download the source data for seed pairs, by executing the file **download_data.sh** in the path of this folder\n",
    "> sh download_data.sh\n"
   ]
  },
  {
   "cell_type": "code",
   "execution_count": 4,
   "id": "31773888-a33b-4c11-bbf2-204836039296",
   "metadata": {},
   "outputs": [],
   "source": [
    "### define the path of dataset\n",
    "\n",
    "path_here = os.getcwd()\n",
    "path_semEval2010 = path_here +'/data/SemEval2010_task8_all_data/'\n",
    "# training pairs\n",
    "path_semEval2010_train = path_semEval2010 +'SemEval2010_task8_training/TRAIN_FILE.TXT'\n",
    "# test pairs\n",
    "path_semEval2010_test = path_semEval2010 +'SemEval2010_task8_testing_keys/TEST_FILE_FULL.TXT'\n"
   ]
  },
  {
   "cell_type": "markdown",
   "id": "36d42106-4419-49ab-9a6e-fc57cb3852c0",
   "metadata": {},
   "source": [
    "## 01-A. Get the causal positive pairs"
   ]
  },
  {
   "cell_type": "code",
   "execution_count": 8,
   "id": "cdf08a60-fd8c-462c-99d5-8d658e9db1f7",
   "metadata": {},
   "outputs": [],
   "source": [
    "\n",
    "### purpose: extract causal pairs from the tagged text\n",
    "### input: the path of tagged text\n",
    "### output: the dataframe to store causal pairs DataFrame(columns=['SentID', 'Cause','Effect','Label'])\n",
    "\n",
    "def extract_causalpairs(path_text):\n",
    "    \n",
    "    # read the train file\n",
    "    with open(path_text, 'r') as f:\n",
    "        content = f.readlines()\n",
    "        content = [x.strip() for x in content] \n",
    "\n",
    "\n",
    "    # the dataframe to store the pairs\n",
    "    df_causalpairs = pd.DataFrame(columns=['SentID', 'Cause','Effect','Label'])\n",
    "    # the patterns to extract pairs from text\n",
    "    pattern_causal = 'Cause-Effect\\((e.),(e.)\\)'\n",
    "    pattern_e1 = '.*<e1>(.*)</e1>.*'        \n",
    "    pattern_e2 = '.*<e2>(.*)</e2>.*'\n",
    "    pattern_sentID = '(\\d+)\\\\t.*'\n",
    "\n",
    "    LABEL = 1\n",
    "\n",
    "    for inx_l, lines in enumerate(content):\n",
    "\n",
    "        res = re.match(pattern_causal, lines) \n",
    "        if res is not None:\n",
    "            # sentence ID\n",
    "            sent_id = re.match(pattern_sentID, content[inx_l-1])[1]\n",
    "\n",
    "            # cause part + effect part (e1 or e2)\n",
    "            if res[1] == 'e1':\n",
    "                res_cause = re.match(pattern_e1, content[inx_l-1])[1]\n",
    "                res_effect = re.match(pattern_e2, content[inx_l-1])[1]\n",
    "            if res[1] == 'e2':\n",
    "                res_cause = re.match(pattern_e2, content[inx_l-1])[1]\n",
    "                res_effect = re.match(pattern_e1, content[inx_l-1])[1]\n",
    "\n",
    "            # append to dataframe\n",
    "            df_causalpairs = df_causalpairs.append({'SentID': sent_id, 'Cause': res_cause, 'Effect': res_effect, 'Label': LABEL}, ignore_index=True)\n",
    "            \n",
    "    \n",
    "    # try to drop duplicate rows of a dataframe\n",
    "    df_causalpairs = df_causalpairs.drop_duplicates(subset=['Cause', 'Effect'], keep='last', ignore_index=True)\n",
    "\n",
    "    \n",
    "    return df_causalpairs\n",
    "    \n",
    "       "
   ]
  },
  {
   "cell_type": "code",
   "execution_count": 10,
   "id": "3e1d924b-ab7b-48d6-bb3d-5e1144fb564f",
   "metadata": {},
   "outputs": [],
   "source": [
    "# get the casual pairs from train files and test files of semEval2010\n",
    "df_causalpairs_train = extract_causalpairs(path_semEval2010_train)\n",
    "df_causalpairs_test = extract_causalpairs(path_semEval2010_test)\n",
    "# save to \n",
    "df_causalpairs_train.to_csv(path_here + '/res/df_causalpairs_train.csv')\n",
    "df_causalpairs_test.to_csv(path_here + '/res/df_causalpairs_test.csv')\n"
   ]
  }
 ],
 "metadata": {
  "kernelspec": {
   "display_name": "Python 3",
   "language": "python",
   "name": "python3"
  },
  "language_info": {
   "codemirror_mode": {
    "name": "ipython",
    "version": 3
   },
   "file_extension": ".py",
   "mimetype": "text/x-python",
   "name": "python",
   "nbconvert_exporter": "python",
   "pygments_lexer": "ipython3",
   "version": "3.6.13"
  }
 },
 "nbformat": 4,
 "nbformat_minor": 5
}
